{
 "cells": [
  {
   "cell_type": "code",
   "execution_count": 23,
   "id": "5f0ae1a0-1f86-4ffb-a954-bfa1a7aa4949",
   "metadata": {
    "execution": {
     "iopub.execute_input": "2021-11-18T07:06:12.797591Z",
     "iopub.status.busy": "2021-11-18T07:06:12.797299Z",
     "iopub.status.idle": "2021-11-18T07:06:12.801368Z",
     "shell.execute_reply": "2021-11-18T07:06:12.800372Z",
     "shell.execute_reply.started": "2021-11-18T07:06:12.797564Z"
    },
    "tags": []
   },
   "outputs": [],
   "source": [
    "from datetime import date, timedelta\n",
    "from mdweek import Week, WeekConfig, setup_week_config"
   ]
  },
  {
   "cell_type": "code",
   "execution_count": 11,
   "id": "4daeca56-28fd-4bbc-b05e-073c55a63865",
   "metadata": {
    "execution": {
     "iopub.execute_input": "2021-11-18T05:41:08.727307Z",
     "iopub.status.busy": "2021-11-18T05:41:08.726948Z",
     "iopub.status.idle": "2021-11-18T05:41:08.731888Z",
     "shell.execute_reply": "2021-11-18T05:41:08.730697Z",
     "shell.execute_reply.started": "2021-11-18T05:41:08.727275Z"
    }
   },
   "outputs": [],
   "source": [
    "dow2name = {\n",
    "    1: \"mon\",\n",
    "    2: \"tue\",\n",
    "    3: \"wed\",\n",
    "    4: \"thu\",\n",
    "    5: \"fri\",\n",
    "    6: \"sat\",\n",
    "    7: \"sun\"\n",
    "}"
   ]
  },
  {
   "cell_type": "markdown",
   "id": "8d4c854f-ad07-4af0-8568-eec4cc65e507",
   "metadata": {},
   "source": [
    "デフォルトは、ISO準拠"
   ]
  },
  {
   "cell_type": "code",
   "execution_count": 12,
   "id": "e06844d1-8d1f-4272-9513-c59f48ce9aee",
   "metadata": {
    "execution": {
     "iopub.execute_input": "2021-11-18T05:41:30.165188Z",
     "iopub.status.busy": "2021-11-18T05:41:30.164842Z",
     "iopub.status.idle": "2021-11-18T05:41:30.173615Z",
     "shell.execute_reply": "2021-11-18T05:41:30.172408Z",
     "shell.execute_reply.started": "2021-11-18T05:41:30.165153Z"
    },
    "tags": []
   },
   "outputs": [
    {
     "name": "stdout",
     "output_type": "stream",
     "text": [
      "2021-01-01 fri 2020/53\n",
      "2021-01-02 sat 2020/53\n",
      "2021-01-03 sun 2020/53\n",
      "2021-01-04 mon 2021/1\n",
      "2021-01-05 tue 2021/1\n",
      "2021-01-06 wed 2021/1\n",
      "2021-01-07 thu 2021/1\n",
      "2021-01-08 fri 2021/1\n",
      "2021-01-09 sat 2021/1\n",
      "2021-01-10 sun 2021/1\n",
      "2021-01-11 mon 2021/2\n",
      "2021-01-12 tue 2021/2\n",
      "2021-01-13 wed 2021/2\n",
      "2021-01-14 thu 2021/2\n",
      "2021-01-15 fri 2021/2\n",
      "2021-01-16 sat 2021/2\n",
      "2021-01-17 sun 2021/2\n",
      "2021-01-18 mon 2021/3\n",
      "2021-01-19 tue 2021/3\n"
     ]
    }
   ],
   "source": [
    "for d in range(1, 20):\n",
    "    d = date(2021, 1, d)\n",
    "    print(d, dow2name[d.isoweekday()], Week.from_date(d))"
   ]
  },
  {
   "cell_type": "markdown",
   "id": "5522f247-973b-4457-8d6b-1666db3d4a10",
   "metadata": {},
   "source": [
    "注） ISO weekでは、週は月曜はじまりで、その年の最初の木曜日が含まれる週が第一週になる"
   ]
  },
  {
   "cell_type": "markdown",
   "id": "4b8ae619-cc9c-458d-ba42-86672d6b8ba3",
   "metadata": {},
   "source": [
    "`WeekConfig`を継承したクラスを定義することで、週番号の定義をカスタマイズすることができる"
   ]
  },
  {
   "cell_type": "code",
   "execution_count": 20,
   "id": "1da96c07-4f44-4d5f-99d7-8867043ff746",
   "metadata": {
    "execution": {
     "iopub.execute_input": "2021-11-18T07:05:36.787869Z",
     "iopub.status.busy": "2021-11-18T07:05:36.787563Z",
     "iopub.status.idle": "2021-11-18T07:05:36.793172Z",
     "shell.execute_reply": "2021-11-18T07:05:36.791950Z",
     "shell.execute_reply.started": "2021-11-18T07:05:36.787838Z"
    },
    "tags": []
   },
   "outputs": [],
   "source": [
    "class SampleConfig(WeekConfig):\n",
    "    \"\"\"\n",
    "    週番号の定義が\n",
    "    - 週の開始が日曜日\n",
    "    - 毎年3/1を含む週が第一週\n",
    "    であるようなカスタマイズの例。\n",
    "    \"\"\"\n",
    "\n",
    "    def first_date(self, year):\n",
    "        \"\"\"\n",
    "        西暦year年の第一週を決める日付を返す関数。\n",
    "        \"\"\"        \n",
    "        return date(year, 3, 1)\n",
    "\n",
    "    @property\n",
    "    def first_dow(self):\n",
    "        \"\"\"\n",
    "        週の開始曜日を返す関数。\n",
    "        1 = 月曜日, .., 7 = 日曜日\n",
    "        \n",
    "        \"\"\"\n",
    "        return 7"
   ]
  },
  {
   "cell_type": "code",
   "execution_count": 25,
   "id": "635f0a99-e42f-44bd-9482-d586971ab30e",
   "metadata": {
    "execution": {
     "iopub.execute_input": "2021-11-18T07:06:54.674715Z",
     "iopub.status.busy": "2021-11-18T07:06:54.674455Z",
     "iopub.status.idle": "2021-11-18T07:06:54.678326Z",
     "shell.execute_reply": "2021-11-18T07:06:54.677316Z",
     "shell.execute_reply.started": "2021-11-18T07:06:54.674687Z"
    },
    "tags": []
   },
   "outputs": [],
   "source": [
    "# SampleConfigを定義として採用する\n",
    "setup_week_config(SampleConfig())"
   ]
  },
  {
   "cell_type": "code",
   "execution_count": 26,
   "id": "55f6c6f5-57eb-4b5c-b5e1-d61b87c57abf",
   "metadata": {
    "execution": {
     "iopub.execute_input": "2021-11-18T07:06:54.957239Z",
     "iopub.status.busy": "2021-11-18T07:06:54.956929Z",
     "iopub.status.idle": "2021-11-18T07:06:54.963574Z",
     "shell.execute_reply": "2021-11-18T07:06:54.962984Z",
     "shell.execute_reply.started": "2021-11-18T07:06:54.957215Z"
    },
    "tags": []
   },
   "outputs": [
    {
     "name": "stdout",
     "output_type": "stream",
     "text": [
      "2021-02-19 fri 2020/51\n",
      "2021-02-20 sat 2020/51\n",
      "2021-02-21 sun 2020/52\n",
      "2021-02-22 mon 2020/52\n",
      "2021-02-23 tue 2020/52\n",
      "2021-02-24 wed 2020/52\n",
      "2021-02-25 thu 2020/52\n",
      "2021-02-26 fri 2020/52\n",
      "2021-02-27 sat 2020/52\n",
      "2021-02-28 sun 2021/1\n",
      "2021-03-01 mon 2021/1\n",
      "2021-03-02 tue 2021/1\n",
      "2021-03-03 wed 2021/1\n",
      "2021-03-04 thu 2021/1\n",
      "2021-03-05 fri 2021/1\n",
      "2021-03-06 sat 2021/1\n",
      "2021-03-07 sun 2021/2\n",
      "2021-03-08 mon 2021/2\n",
      "2021-03-09 tue 2021/2\n",
      "2021-03-10 wed 2021/2\n"
     ]
    }
   ],
   "source": [
    "for i in range(-10, 10):\n",
    "    d = date(2021, 3, 1) + timedelta(days=i)\n",
    "    print(d, dow2name[d.isoweekday()], Week.from_date(d))"
   ]
  }
 ],
 "metadata": {
  "kernelspec": {
   "display_name": "Python 3 (ipykernel)",
   "language": "python",
   "name": "python3"
  },
  "language_info": {
   "codemirror_mode": {
    "name": "ipython",
    "version": 3
   },
   "file_extension": ".py",
   "mimetype": "text/x-python",
   "name": "python",
   "nbconvert_exporter": "python",
   "pygments_lexer": "ipython3",
   "version": "3.9.5"
  }
 },
 "nbformat": 4,
 "nbformat_minor": 5
}
