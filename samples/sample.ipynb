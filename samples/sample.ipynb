{
 "cells": [
  {
   "cell_type": "code",
   "execution_count": 1,
   "id": "3d52348a-3e2a-4b88-954d-a6510021d8dd",
   "metadata": {
    "execution": {
     "iopub.execute_input": "2021-11-18T10:38:45.338395Z",
     "iopub.status.busy": "2021-11-18T10:38:45.337936Z",
     "iopub.status.idle": "2021-11-18T10:38:45.354536Z",
     "shell.execute_reply": "2021-11-18T10:38:45.351060Z",
     "shell.execute_reply.started": "2021-11-18T10:38:45.338287Z"
    },
    "tags": []
   },
   "outputs": [],
   "source": [
    "import sys\n",
    "sys.path.append(\"..\")"
   ]
  },
  {
   "cell_type": "code",
   "execution_count": 2,
   "id": "a049b58b-e4a2-472e-972b-af7fa9ea3456",
   "metadata": {
    "execution": {
     "iopub.execute_input": "2021-11-18T10:38:45.356645Z",
     "iopub.status.busy": "2021-11-18T10:38:45.356343Z",
     "iopub.status.idle": "2021-11-18T10:38:45.369153Z",
     "shell.execute_reply": "2021-11-18T10:38:45.368257Z",
     "shell.execute_reply.started": "2021-11-18T10:38:45.356616Z"
    },
    "tags": []
   },
   "outputs": [],
   "source": [
    "from datetime import date, timedelta\n",
    "from mdweek import Week, setup_week_config, WeekConfig"
   ]
  },
  {
   "cell_type": "code",
   "execution_count": 3,
   "id": "b5012ef5-ef64-4b82-8d6d-b9a5480e47af",
   "metadata": {
    "execution": {
     "iopub.execute_input": "2021-11-18T10:38:45.371668Z",
     "iopub.status.busy": "2021-11-18T10:38:45.371418Z",
     "iopub.status.idle": "2021-11-18T10:38:45.375655Z",
     "shell.execute_reply": "2021-11-18T10:38:45.374781Z",
     "shell.execute_reply.started": "2021-11-18T10:38:45.371645Z"
    },
    "tags": []
   },
   "outputs": [],
   "source": [
    "dow2name = {\n",
    "    1: \"mon\",\n",
    "    2: \"tue\",\n",
    "    3: \"wed\",\n",
    "    4: \"thu\",\n",
    "    5: \"fri\",\n",
    "    6: \"sat\",\n",
    "    7: \"sun\"\n",
    "}"
   ]
  },
  {
   "cell_type": "markdown",
   "id": "36e16754-aee5-4da3-9b75-53dace4c99d3",
   "metadata": {},
   "source": [
    "デフォルトではISO Weekに準拠（週の開始が月曜日。年の最初の木曜日がある週が第一週）"
   ]
  },
  {
   "cell_type": "code",
   "execution_count": 4,
   "id": "6abb4e01-d4fc-4bb1-ae4e-db0336618924",
   "metadata": {
    "execution": {
     "iopub.execute_input": "2021-11-18T10:38:45.376742Z",
     "iopub.status.busy": "2021-11-18T10:38:45.376570Z",
     "iopub.status.idle": "2021-11-18T10:38:45.386494Z",
     "shell.execute_reply": "2021-11-18T10:38:45.384356Z",
     "shell.execute_reply.started": "2021-11-18T10:38:45.376724Z"
    },
    "tags": []
   },
   "outputs": [
    {
     "name": "stdout",
     "output_type": "stream",
     "text": [
      "2020-12-22 tue 2020/52\n",
      "2020-12-23 wed 2020/52\n",
      "2020-12-24 thu 2020/52\n",
      "2020-12-25 fri 2020/52\n",
      "2020-12-26 sat 2020/52\n",
      "2020-12-27 sun 2020/52\n",
      "2020-12-28 mon 2020/53\n",
      "2020-12-29 tue 2020/53\n",
      "2020-12-30 wed 2020/53\n",
      "2020-12-31 thu 2020/53\n",
      "2021-01-01 fri 2020/53\n",
      "2021-01-02 sat 2020/53\n",
      "2021-01-03 sun 2020/53\n",
      "2021-01-04 mon 2021/1\n",
      "2021-01-05 tue 2021/1\n",
      "2021-01-06 wed 2021/1\n",
      "2021-01-07 thu 2021/1\n",
      "2021-01-08 fri 2021/1\n",
      "2021-01-09 sat 2021/1\n",
      "2021-01-10 sun 2021/1\n"
     ]
    }
   ],
   "source": [
    "for i in range(-10, 10):\n",
    "    d = date(2021, 1, 1) + timedelta(days=i)\n",
    "    print(d, dow2name[d.isoweekday()], Week.from_date(d))"
   ]
  },
  {
   "cell_type": "markdown",
   "id": "a37dda50-9df9-49f1-9e66-f94d55af5280",
   "metadata": {},
   "source": [
    "`WeekConfig`を継承したクラスを定義することで、週の定義をカスタマイズ可能。"
   ]
  },
  {
   "cell_type": "code",
   "execution_count": 5,
   "id": "0dfd2ba8-01f2-4220-9c49-db52bf0d2184",
   "metadata": {
    "execution": {
     "iopub.execute_input": "2021-11-18T10:38:45.388288Z",
     "iopub.status.busy": "2021-11-18T10:38:45.387936Z",
     "iopub.status.idle": "2021-11-18T10:38:45.392653Z",
     "shell.execute_reply": "2021-11-18T10:38:45.391788Z",
     "shell.execute_reply.started": "2021-11-18T10:38:45.388261Z"
    },
    "tags": []
   },
   "outputs": [],
   "source": [
    "class SundayMar1Config(WeekConfig):\n",
    "    \"\"\"\n",
    "    - 週の始まりが日曜日\n",
    "    - 3/1を含む週が第一週\n",
    "    という定義の週番号を行うためのカスタマイズ用クラス。\n",
    "    \"\"\"\n",
    "    def first_date(self, year):\n",
    "        return date(year, 3, 1)\n",
    "    \n",
    "    @property\n",
    "    def first_dow(self, ):\n",
    "        return 7"
   ]
  },
  {
   "cell_type": "code",
   "execution_count": 6,
   "id": "5723695f-2591-4ef8-b5a8-884de1b236bc",
   "metadata": {
    "execution": {
     "iopub.execute_input": "2021-11-18T10:38:45.394074Z",
     "iopub.status.busy": "2021-11-18T10:38:45.393833Z",
     "iopub.status.idle": "2021-11-18T10:38:45.399670Z",
     "shell.execute_reply": "2021-11-18T10:38:45.398782Z",
     "shell.execute_reply.started": "2021-11-18T10:38:45.394051Z"
    },
    "tags": []
   },
   "outputs": [],
   "source": [
    "setup_week_config(SundayMar1Config())"
   ]
  },
  {
   "cell_type": "code",
   "execution_count": 7,
   "id": "5b090acc-a8cc-4a98-85b7-21d35b4ed198",
   "metadata": {
    "execution": {
     "iopub.execute_input": "2021-11-18T10:38:45.401279Z",
     "iopub.status.busy": "2021-11-18T10:38:45.401031Z",
     "iopub.status.idle": "2021-11-18T10:38:45.410612Z",
     "shell.execute_reply": "2021-11-18T10:38:45.410103Z",
     "shell.execute_reply.started": "2021-11-18T10:38:45.401256Z"
    },
    "tags": []
   },
   "outputs": [
    {
     "name": "stdout",
     "output_type": "stream",
     "text": [
      "2021-02-19 fri 2020/51\n",
      "2021-02-20 sat 2020/51\n",
      "2021-02-21 sun 2020/52\n",
      "2021-02-22 mon 2020/52\n",
      "2021-02-23 tue 2020/52\n",
      "2021-02-24 wed 2020/52\n",
      "2021-02-25 thu 2020/52\n",
      "2021-02-26 fri 2020/52\n",
      "2021-02-27 sat 2020/52\n",
      "2021-02-28 sun 2021/1\n",
      "2021-03-01 mon 2021/1\n",
      "2021-03-02 tue 2021/1\n",
      "2021-03-03 wed 2021/1\n",
      "2021-03-04 thu 2021/1\n",
      "2021-03-05 fri 2021/1\n",
      "2021-03-06 sat 2021/1\n",
      "2021-03-07 sun 2021/2\n",
      "2021-03-08 mon 2021/2\n",
      "2021-03-09 tue 2021/2\n",
      "2021-03-10 wed 2021/2\n"
     ]
    }
   ],
   "source": [
    "for i in range(-10, 10):\n",
    "    d = date(2021, 3, 1) + timedelta(days=i)\n",
    "    print(d, dow2name[d.isoweekday()], Week.from_date(d))"
   ]
  }
 ],
 "metadata": {
  "kernelspec": {
   "display_name": "Python 3 (ipykernel)",
   "language": "python",
   "name": "python3"
  },
  "language_info": {
   "codemirror_mode": {
    "name": "ipython",
    "version": 3
   },
   "file_extension": ".py",
   "mimetype": "text/x-python",
   "name": "python",
   "nbconvert_exporter": "python",
   "pygments_lexer": "ipython3",
   "version": "3.9.5"
  }
 },
 "nbformat": 4,
 "nbformat_minor": 5
}
